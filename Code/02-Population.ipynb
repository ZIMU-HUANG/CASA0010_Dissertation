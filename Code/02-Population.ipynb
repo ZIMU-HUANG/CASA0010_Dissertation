{
 "cells": [
  {
   "cell_type": "code",
   "execution_count": 2,
   "id": "7514927b-30eb-4bc2-a89c-8b86662c03cb",
   "metadata": {},
   "outputs": [],
   "source": [
    "import pandas as pd\n",
    "import re"
   ]
  },
  {
   "cell_type": "markdown",
   "id": "4ba60e57-919d-4f71-9fd4-0c294625e1af",
   "metadata": {},
   "source": [
    "**· 2011 London LSOA Population**"
   ]
  },
  {
   "cell_type": "code",
   "execution_count": 12,
   "id": "85511250-2484-4871-88e2-ef7acf2b5af0",
   "metadata": {},
   "outputs": [],
   "source": [
    "# Load CSV file\n",
    "file_path_lsoa11 = 'Data/Raw/Population/LSOA_11.csv'\n",
    "df_lsoa11= pd.read_csv(file_path_lsoa11)\n",
    "\n",
    "# Specify the list of borough names to retain\n",
    "boroughs = [\n",
    "    'City of London', 'Barking and Dagenham', 'Barnet', 'Bexley', 'Brent', 'Bromley', \n",
    "    'Camden', 'Croydon', 'Ealing', 'Enfield', 'Greenwich', 'Hackney', \n",
    "    'Hammersmith and Fulham', 'Haringey', 'Harrow', 'Havering', 'Hillingdon', \n",
    "    'Hounslow', 'Islington', 'Kensington and Chelsea', 'Kingston upon Thames', \n",
    "    'Lambeth', 'Lewisham', 'Merton', 'Newham', 'Redbridge', 'Richmond upon Thames', \n",
    "    'Southwark', 'Sutton', 'Tower Hamlets', 'Waltham Forest', 'Wandsworth', 'Westminster'\n",
    "]\n",
    "\n",
    "# Check if LSOA Name contains the exact borough name\n",
    "pattern = '|'.join([f'\\\\b{borough}\\\\b' for borough in boroughs])\n",
    "\n",
    "# Filter the data\n",
    "filtered_df_lsoa11 = df_lsoa11[df_lsoa11['LSOA Name'].str.contains(pattern, regex=True)]\n",
    "\n",
    "# Save the filtered DataFrame to a new CSV file\n",
    "filtered_df_lsoa11.to_csv('Data/Revised/Population/LSOA_2011.csv', index=False)"
   ]
  },
  {
   "cell_type": "markdown",
   "id": "8c0e6e7e-309e-42e1-9e73-dbde9d1859ce",
   "metadata": {},
   "source": [
    "**· 2011 London MSOA Population**"
   ]
  },
  {
   "cell_type": "code",
   "execution_count": 14,
   "id": "95477bbd-efbb-4d09-b124-20eb091b4574",
   "metadata": {},
   "outputs": [],
   "source": [
    "# Load CSV file\n",
    "file_path_msoa11 = 'Data/Raw/Population/MSOA_11.csv'\n",
    "df_msoa11= pd.read_csv(file_path_msoa11)\n",
    "\n",
    "# Specify the list of borough names to retain\n",
    "boroughs = [\n",
    "    'City of London', 'Barking and Dagenham', 'Barnet', 'Bexley', 'Brent', 'Bromley', \n",
    "    'Camden', 'Croydon', 'Ealing', 'Enfield', 'Greenwich', 'Hackney', \n",
    "    'Hammersmith and Fulham', 'Haringey', 'Harrow', 'Havering', 'Hillingdon', \n",
    "    'Hounslow', 'Islington', 'Kensington and Chelsea', 'Kingston upon Thames', \n",
    "    'Lambeth', 'Lewisham', 'Merton', 'Newham', 'Redbridge', 'Richmond upon Thames', \n",
    "    'Southwark', 'Sutton', 'Tower Hamlets', 'Waltham Forest', 'Wandsworth', 'Westminster'\n",
    "]\n",
    "\n",
    "# Check if MSOA Name contains the exact borough name\n",
    "pattern = '|'.join([f'\\\\b{borough}\\\\b' for borough in boroughs])\n",
    "\n",
    "# Filter the data\n",
    "filtered_df_msoa11 = df_msoa11[df_msoa11['MSOA Name'].str.contains(pattern, regex=True)]\n",
    "\n",
    "# Save the filtered DataFrame to a new CSV file\n",
    "filtered_df_msoa11.to_csv('Data/Revised/Population/MSOA_2011.csv', index=False)"
   ]
  },
  {
   "cell_type": "markdown",
   "id": "319c724f-2ca7-4414-90ab-0c0ba6725ffb",
   "metadata": {},
   "source": [
    "**· 2021 London MSOA Population**"
   ]
  },
  {
   "cell_type": "code",
   "execution_count": 17,
   "id": "ea74a2e3-0a5d-44d4-a492-260601d56c09",
   "metadata": {},
   "outputs": [],
   "source": [
    "# Load CSV file\n",
    "file_path_msoa21 = 'Data/Raw/Population/MSOA_21.csv'\n",
    "df_msoa21= pd.read_csv(file_path_msoa21)\n",
    "\n",
    "# Specify the list of borough names to retain\n",
    "boroughs = [\n",
    "    'City of London', 'Barking and Dagenham', 'Barnet', 'Bexley', 'Brent', 'Bromley', \n",
    "    'Camden', 'Croydon', 'Ealing', 'Enfield', 'Greenwich', 'Hackney', \n",
    "    'Hammersmith and Fulham', 'Haringey', 'Harrow', 'Havering', 'Hillingdon', \n",
    "    'Hounslow', 'Islington', 'Kensington and Chelsea', 'Kingston upon Thames', \n",
    "    'Lambeth', 'Lewisham', 'Merton', 'Newham', 'Redbridge', 'Richmond upon Thames', \n",
    "    'Southwark', 'Sutton', 'Tower Hamlets', 'Waltham Forest', 'Wandsworth', 'Westminster'\n",
    "]\n",
    "\n",
    "# Check if MSOA Name contains the exact borough name\n",
    "pattern = '|'.join([f'\\\\b{borough}\\\\b' for borough in boroughs])\n",
    "\n",
    "# Filter the data\n",
    "filtered_df_msoa21 = df_msoa21[df_msoa21['MSOA 2021 Name'].str.contains(pattern, regex=True)]\n",
    "\n",
    "# Save the filtered DataFrame to a new CSV file\n",
    "filtered_df_msoa21.to_csv('Data/Revised/Population/MSOA_2021.csv', index=False)"
   ]
  },
  {
   "cell_type": "markdown",
   "id": "b2d4a95e-c7e8-4052-a3f4-fb7e781e5aa3",
   "metadata": {},
   "source": [
    "**· 2021 London LSOA Population**"
   ]
  },
  {
   "cell_type": "code",
   "execution_count": 3,
   "id": "66842351-0990-4748-843b-df0a78e3bda1",
   "metadata": {},
   "outputs": [],
   "source": [
    "# Load CSV file\n",
    "file_path_msoa21 = 'Data/Raw/Population/LSOA_21.csv'\n",
    "df_msoa21= pd.read_csv(file_path_msoa21)\n",
    "\n",
    "# Specify the list of borough names to retain\n",
    "boroughs = [\n",
    "    'City of London', 'Barking and Dagenham', 'Barnet', 'Bexley', 'Brent', 'Bromley', \n",
    "    'Camden', 'Croydon', 'Ealing', 'Enfield', 'Greenwich', 'Hackney', \n",
    "    'Hammersmith and Fulham', 'Haringey', 'Harrow', 'Havering', 'Hillingdon', \n",
    "    'Hounslow', 'Islington', 'Kensington and Chelsea', 'Kingston upon Thames', \n",
    "    'Lambeth', 'Lewisham', 'Merton', 'Newham', 'Redbridge', 'Richmond upon Thames', \n",
    "    'Southwark', 'Sutton', 'Tower Hamlets', 'Waltham Forest', 'Wandsworth', 'Westminster'\n",
    "]\n",
    "\n",
    "# Check if MSOA Name contains the exact borough name\n",
    "pattern = '|'.join([f'\\\\b{borough}\\\\b' for borough in boroughs])\n",
    "\n",
    "# Filter the data\n",
    "filtered_df_msoa21 = df_msoa21[df_msoa21['LSOA 2021 Name'].str.contains(pattern, regex=True)]\n",
    "\n",
    "# Save the filtered DataFrame to a new CSV file\n",
    "filtered_df_msoa21.to_csv('Data/Revised/Population/LSOA_2021.csv', index=False)"
   ]
  }
 ],
 "metadata": {
  "kernelspec": {
   "display_name": "Python 3 (ipykernel)",
   "language": "python",
   "name": "python3"
  },
  "language_info": {
   "codemirror_mode": {
    "name": "ipython",
    "version": 3
   },
   "file_extension": ".py",
   "mimetype": "text/x-python",
   "name": "python",
   "nbconvert_exporter": "python",
   "pygments_lexer": "ipython3",
   "version": "3.11.5"
  }
 },
 "nbformat": 4,
 "nbformat_minor": 5
}
