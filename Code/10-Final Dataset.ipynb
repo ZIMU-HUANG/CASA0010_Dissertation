{
 "cells": [
  {
   "cell_type": "code",
   "execution_count": 3,
   "id": "b542517b-ee2b-4cd0-91ca-4b798f757c14",
   "metadata": {},
   "outputs": [],
   "source": [
    "import pandas as pd"
   ]
  },
  {
   "cell_type": "code",
   "execution_count": 4,
   "id": "6fcc6c84-3ce6-406c-bc57-450ab7bbd06e",
   "metadata": {},
   "outputs": [],
   "source": [
    "# Load the CSV files into DataFrames\n",
    "health_2011 = pd.read_csv('Data/Revised/Health/Health_2011.csv')\n",
    "health_2021 = pd.read_csv('Data/Revised/Health/Health_2021.csv')\n",
    "migration = pd.read_csv('Data/Revised/Migration/Migration.csv')\n",
    "\n",
    "# Merge Health_2011 with Migration based on the corresponding codes\n",
    "merged_data = migration.merge(\n",
    "    health_2011[['MSOA21CD', 'Decile_Before']], \n",
    "    left_on='Code_2020', \n",
    "    right_on='MSOA21CD', \n",
    "    how='left'\n",
    ")\n",
    "\n",
    "# Rename the column '2011' to 'Health_Before'\n",
    "merged_data.rename(columns={'Decile_Before': 'Health_Before'}, inplace=True)\n",
    "\n",
    "# Drop the extra MSOA21CD column from the merge\n",
    "merged_data.drop(columns=['MSOA21CD'], inplace=True)\n",
    "\n",
    "# Merge Health_2021 with the previously merged data based on the corresponding codes\n",
    "merged_data = merged_data.merge(\n",
    "    health_2021[['MSOA21CD', 'Decile_After']], \n",
    "    left_on='Code_2021', \n",
    "    right_on='MSOA21CD', \n",
    "    how='left'\n",
    ")\n",
    "\n",
    "# Rename the column '2021' to 'Health_After'\n",
    "merged_data.rename(columns={'Decile_After': 'Health_After'}, inplace=True)\n",
    "\n",
    "# Drop the extra MSOA21CD column from the merge\n",
    "merged_data.drop(columns=['MSOA21CD'], inplace=True)\n",
    "\n",
    "# Calculate the difference between Health_After and Health_Before to form the new column Health_Change\n",
    "merged_data['Health_Change'] = merged_data['Health_After'] - merged_data['Health_Before']\n",
    "\n",
    "# Move the 'Count' column to the last position\n",
    "count_column = merged_data.pop('Count')\n",
    "merged_data['Count'] = count_column\n",
    "\n",
    "# Export the modified DataFrame to a new CSV file\n",
    "output_path = \"Data/Final/Dataset.csv\"\n",
    "merged_data.to_csv(output_path, index=False)"
   ]
  },
  {
   "cell_type": "code",
   "execution_count": 8,
   "id": "2e819862-e258-41fb-9714-a8a3c48e94cb",
   "metadata": {},
   "outputs": [],
   "source": [
    "# Load the CSV file\n",
    "file_path = \"Data/Final/Dataset.csv\"\n",
    "data = pd.read_csv(file_path)\n",
    "\n",
    "# Calculate new columns 'IMD' and 'Health'\n",
    "data['IMD_Total'] = data['IMD_Change'] * data['Count']\n",
    "data['Health_Total'] = data['Health_Change'] * data['Count']\n",
    "\n",
    "# Remove only rows with missing values\n",
    "data = data.dropna()\n",
    "\n",
    "# Export the updated dataframe to a new CSV file\n",
    "export_path = \"Data/Final/Dataset.csv\"\n",
    "data.to_csv(export_path, index=False)"
   ]
  }
 ],
 "metadata": {
  "kernelspec": {
   "display_name": "Python 3 (ipykernel)",
   "language": "python",
   "name": "python3"
  },
  "language_info": {
   "codemirror_mode": {
    "name": "ipython",
    "version": 3
   },
   "file_extension": ".py",
   "mimetype": "text/x-python",
   "name": "python",
   "nbconvert_exporter": "python",
   "pygments_lexer": "ipython3",
   "version": "3.11.5"
  }
 },
 "nbformat": 4,
 "nbformat_minor": 5
}
