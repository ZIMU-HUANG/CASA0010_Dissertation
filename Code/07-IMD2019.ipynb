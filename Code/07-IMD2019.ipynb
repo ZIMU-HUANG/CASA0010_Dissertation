{
 "cells": [
  {
   "cell_type": "code",
   "execution_count": 59,
   "id": "6ac43233-b3c2-468b-8003-0c39ed4d9e72",
   "metadata": {},
   "outputs": [],
   "source": [
    "import pandas as pd"
   ]
  },
  {
   "cell_type": "code",
   "execution_count": 60,
   "id": "b3c0b1cb-021b-4097-8840-ca3666bec163",
   "metadata": {},
   "outputs": [],
   "source": [
    "# Load the files into pandas dataframes\n",
    "file_1_path = \"Data/Revised/Geography/Lookup/11-11-MSOA.csv\"\n",
    "file_2_path = \"Data/Revised/Population/MSOA_2011.csv\"\n",
    "file_3_path = \"Data/Revised/Population/LSOA_2011.csv\"\n",
    "\n",
    "# Read the CSV files\n",
    "file_1 = pd.read_csv(file_1_path)\n",
    "file_2 = pd.read_csv(file_2_path)\n",
    "file_3 = pd.read_csv(file_3_path)\n",
    "\n",
    "# Rename columns for merging\n",
    "file_2_renamed = file_2.rename(columns={\"Persons_All usual residents\": \"MSOA\"})\n",
    "file_3_renamed = file_3.rename(columns={\"Persons_All usual residents\": \"LSOA\"})\n",
    "\n",
    "# Merge with '11-11-MSOA' DataFrame on 'MSOA11CD' and 'MSOA Code'\n",
    "merged_data = file_1.merge(file_2_renamed[['MSOA Code', 'MSOA']], left_on='MSOA11CD', right_on='MSOA Code', how='left')\n",
    "\n",
    "# Merge with '11-11-MSOA' DataFrame on 'LSOA11CD' and 'LSOA Code'\n",
    "merged_data = merged_data.merge(file_3_renamed[['LSOA Code', 'LSOA']], left_on='LSOA11CD', right_on='LSOA Code', how='left')\n",
    "\n",
    "# Drop unnecessary columns after merge\n",
    "merged_data = merged_data.drop(columns=['MSOA Code', 'LSOA Code'])\n",
    "\n",
    "# Reorder the columns to place 'MSOA' as the last column\n",
    "merged_data = merged_data[['LSOA11CD', 'LSOA11NM', 'MSOA11CD', 'MSOA11NM', 'LSOA', 'MSOA']]\n",
    "\n",
    "# Convert 'LSOA' and 'MSOA' columns to numeric by removing commas and converting to integers\n",
    "merged_data['LSOA'] = merged_data['LSOA'].str.replace(',', '').astype(int)\n",
    "merged_data['MSOA'] = merged_data['MSOA'].str.replace(',', '').astype(int)\n",
    "\n",
    "# Calculate the proportion of LSOA over MSOA and round to two decimal places\n",
    "merged_data['Proportion'] = (merged_data['LSOA'] / merged_data['MSOA']).round(2)"
   ]
  },
  {
   "cell_type": "code",
   "execution_count": 61,
   "id": "77bb80e4-333f-4b0b-aba1-b27b41fab774",
   "metadata": {},
   "outputs": [
    {
     "name": "stdout",
     "output_type": "stream",
     "text": [
      "    LSOA11CD             LSOA11NM   MSOA11CD            MSOA11NM  LSOA  MSOA  \\\n",
      "0  E01000001  City of London 001A  E02000001  City of London 001  1465  7375   \n",
      "1  E01000003  City of London 001C  E02000001  City of London 001  1346  7375   \n",
      "2  E01000002  City of London 001B  E02000001  City of London 001  1436  7375   \n",
      "3  E01032739  City of London 001F  E02000001  City of London 001  1044  7375   \n",
      "4  E01032740  City of London 001G  E02000001  City of London 001  1099  7375   \n",
      "\n",
      "   Proportion  Index of Multiple Deprivation (IMD) Score     S  \n",
      "0        0.20                                      6.208  1.24  \n",
      "1        0.18                                     19.402  3.49  \n",
      "2        0.19                                      5.143  0.98  \n",
      "3        0.14                                     13.584  1.90  \n",
      "4        0.15                                     15.841  2.38  \n"
     ]
    }
   ],
   "source": [
    "# Load the IMD data\n",
    "imd_file_path = \"Data/Revised/IMD/IMD.csv\"\n",
    "imd_data = pd.read_csv(imd_file_path)\n",
    "\n",
    "# Merging the existing merged data with the IMD data on 'LSOA11CD' and 'LSOA_Code_2011'\n",
    "final_merged_data = merged_data.merge(imd_data[['LSOA_Code_2011', 'Index of Multiple Deprivation (IMD) Score']], \n",
    "                                      left_on='LSOA11CD', \n",
    "                                      right_on='LSOA_Code_2011', \n",
    "                                      how='left')\n",
    "\n",
    "# Dropping the redundant 'LSOA_Code_2011' column after merge\n",
    "final_merged_data.drop(columns=['LSOA_Code_2011'], inplace=True)\n",
    "\n",
    "# Calculating the product of 'Proportion' and 'IMD_Decile' to create a new column 'D'\n",
    "final_merged_data['S'] = (final_merged_data['Proportion'] * final_merged_data['Index of Multiple Deprivation (IMD) Score']).round(2)\n",
    "\n",
    "# Display the updated DataFrame with the new 'Decile' column\n",
    "print(final_merged_data.head())"
   ]
  },
  {
   "cell_type": "code",
   "execution_count": 62,
   "id": "e19fe12c-b6ae-4683-a48e-9fd9bdcd51a7",
   "metadata": {},
   "outputs": [
    {
     "name": "stdout",
     "output_type": "stream",
     "text": [
      "                   MSOA11NM  Score\n",
      "0  Barking and Dagenham 001  34.72\n",
      "1  Barking and Dagenham 002  25.10\n",
      "2  Barking and Dagenham 003  23.43\n",
      "3  Barking and Dagenham 004  30.40\n",
      "4  Barking and Dagenham 006  36.18\n"
     ]
    }
   ],
   "source": [
    "# Grouping by 'MSOA11NM' and summing the 'D' values for each group\n",
    "score_sum = final_merged_data.groupby('MSOA11NM')['S'].sum().reset_index()\n",
    "\n",
    "# Renaming the summed column to 'Decile'\n",
    "score_sum.rename(columns={'S': 'Score'}, inplace=True)\n",
    "\n",
    "# Display the updated DataFrame with the new 'Decile' column\n",
    "print(score_sum.head())"
   ]
  },
  {
   "cell_type": "code",
   "execution_count": 63,
   "id": "68173575-b578-4288-869d-184944a153a1",
   "metadata": {},
   "outputs": [
    {
     "name": "stdout",
     "output_type": "stream",
     "text": [
      "       LSOA11CD             LSOA11NM   MSOA11CD            MSOA11NM  LSOA  \\\n",
      "0     E01000001  City of London 001A  E02000001  City of London 001  1465   \n",
      "1     E01000003  City of London 001C  E02000001  City of London 001  1346   \n",
      "2     E01000002  City of London 001B  E02000001  City of London 001  1436   \n",
      "3     E01032739  City of London 001F  E02000001  City of London 001  1044   \n",
      "4     E01032740  City of London 001G  E02000001  City of London 001  1099   \n",
      "...         ...                  ...        ...                 ...   ...   \n",
      "4830  E01004762     Westminster 011E  E02000970     Westminster 011  2070   \n",
      "4831  E01004763     Westminster 013B  E02000972     Westminster 013  2127   \n",
      "4832  E01004765     Westminster 013D  E02000972     Westminster 013  2023   \n",
      "4833  E01004739     Westminster 024E  E02000983     Westminster 024  1348   \n",
      "4834  E01033598     Westminster 009F  E02000968     Westminster 009  1242   \n",
      "\n",
      "       MSOA  Proportion  Index of Multiple Deprivation (IMD) Score     S  \\\n",
      "0      7375        0.20                                      6.208  1.24   \n",
      "1      7375        0.18                                     19.402  3.49   \n",
      "2      7375        0.19                                      5.143  0.98   \n",
      "3      7375        0.14                                     13.584  1.90   \n",
      "4      7375        0.15                                     15.841  2.38   \n",
      "...     ...         ...                                        ...   ...   \n",
      "4830   8983        0.23                                     10.467  2.41   \n",
      "4831   8333        0.26                                     23.381  6.08   \n",
      "4832   8333        0.24                                     18.728  4.49   \n",
      "4833   8434        0.16                                      9.446  1.51   \n",
      "4834  14358        0.09                                     52.170  4.70   \n",
      "\n",
      "      Score  \n",
      "0     13.71  \n",
      "1     13.71  \n",
      "2     13.71  \n",
      "3     13.71  \n",
      "4     13.71  \n",
      "...     ...  \n",
      "4830   9.60  \n",
      "4831  20.22  \n",
      "4832  20.22  \n",
      "4833  21.90  \n",
      "4834  41.57  \n",
      "\n",
      "[4835 rows x 10 columns]\n"
     ]
    }
   ],
   "source": [
    "# Merging the summed 'Decile' values back to the original dataframe, aligning on 'MSOA11NM'\n",
    "final_data_with_score = final_merged_data.merge(score_sum, on='MSOA11NM', how='left')\n",
    "\n",
    "# Display the final dataframe\n",
    "print(final_data_with_score)"
   ]
  },
  {
   "cell_type": "code",
   "execution_count": 64,
   "id": "27a3b2a8-92c5-48ba-a6fa-a16ee2dc405a",
   "metadata": {},
   "outputs": [
    {
     "name": "stdout",
     "output_type": "stream",
     "text": [
      "       MSOA11CD                  MSOA11NM  Score\n",
      "0     E02000001        City of London 001  13.71\n",
      "6     E02000017  Barking and Dagenham 016  27.52\n",
      "8     E02000016  Barking and Dagenham 015  33.88\n",
      "13    E02000010  Barking and Dagenham 009  34.95\n",
      "17    E02000014  Barking and Dagenham 013  36.56\n",
      "...         ...                       ...    ...\n",
      "4798  E02000979           Westminster 020  20.52\n",
      "4800  E02000977           Westminster 018  20.76\n",
      "4806  E02000981           Westminster 022  14.43\n",
      "4808  E02000980           Westminster 021  23.38\n",
      "4820  E02000969           Westminster 010  38.72\n",
      "\n",
      "[983 rows x 3 columns]\n"
     ]
    }
   ],
   "source": [
    "# Selecting only the required columns: 'MSOA11CD', 'MSOA11NM', and 'Decile'\n",
    "final_selected_data = final_data_with_score[['MSOA11CD', 'MSOA11NM', 'Score']]\n",
    "\n",
    "# Dropping duplicate rows based on 'MSOA11CD' and 'MSOA11NM'\n",
    "final_unique_data = final_selected_data.drop_duplicates(subset=['MSOA11CD', 'MSOA11NM'])\n",
    "\n",
    "# Rounding the 'Decile' values to the nearest integer using .loc to avoid the SettingWithCopyWarning\n",
    "final_unique_data.loc[:, 'Score'] = final_unique_data['Score'].round(2)\n",
    "\n",
    "# Display the resulting unique dataframe\n",
    "print(final_unique_data)"
   ]
  },
  {
   "cell_type": "code",
   "execution_count": 65,
   "id": "22cca3d5-3ffe-41fa-a975-d6d0593535c2",
   "metadata": {},
   "outputs": [],
   "source": [
    "# Save the filtered DataFrame to a new CSV file\n",
    "final_unique_data.to_csv('Data/Revised/Migration/IMD_2019.csv', index=False)"
   ]
  }
 ],
 "metadata": {
  "kernelspec": {
   "display_name": "Python 3 (ipykernel)",
   "language": "python",
   "name": "python3"
  },
  "language_info": {
   "codemirror_mode": {
    "name": "ipython",
    "version": 3
   },
   "file_extension": ".py",
   "mimetype": "text/x-python",
   "name": "python",
   "nbconvert_exporter": "python",
   "pygments_lexer": "ipython3",
   "version": "3.11.5"
  }
 },
 "nbformat": 4,
 "nbformat_minor": 5
}
