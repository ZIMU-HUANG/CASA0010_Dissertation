{
 "cells": [
  {
   "cell_type": "code",
   "execution_count": 2,
   "id": "5d22c1cf-853a-405d-8ad2-d7c5af7073e4",
   "metadata": {},
   "outputs": [],
   "source": [
    "import pandas as pd\n",
    "import re"
   ]
  },
  {
   "cell_type": "markdown",
   "id": "5d2d8158-77a9-49ce-b142-4bd73230c87b",
   "metadata": {},
   "source": [
    "**· Index of Multiple Deprivation for London 2019**"
   ]
  },
  {
   "cell_type": "code",
   "execution_count": 3,
   "id": "25715f81-5508-4f12-933a-423120e5258f",
   "metadata": {},
   "outputs": [],
   "source": [
    "# Load CSV file\n",
    "file_path = 'Data/Raw/IMD/IMD_2019.csv'\n",
    "df= pd.read_csv(file_path)\n",
    "\n",
    "# Specify the list of borough names to retain\n",
    "boroughs = [\n",
    "    'City of London', 'Barking and Dagenham', 'Barnet', 'Bexley', 'Brent', 'Bromley', \n",
    "    'Camden', 'Croydon', 'Ealing', 'Enfield', 'Greenwich', 'Hackney', \n",
    "    'Hammersmith and Fulham', 'Haringey', 'Harrow', 'Havering', 'Hillingdon', \n",
    "    'Hounslow', 'Islington', 'Kensington and Chelsea', 'Kingston upon Thames', \n",
    "    'Lambeth', 'Lewisham', 'Merton', 'Newham', 'Redbridge', 'Richmond upon Thames', \n",
    "    'Southwark', 'Sutton', 'Tower Hamlets', 'Waltham Forest', 'Wandsworth', 'Westminster'\n",
    "]\n",
    "\n",
    "# Check if LSOA Name contains the exact borough name\n",
    "pattern = '|'.join([f'\\\\b{borough}\\\\b' for borough in boroughs])\n",
    "\n",
    "# Filter the data\n",
    "filtered_df = df[df['LSOA_Name_2011'].str.contains(pattern, regex=True)]\n",
    "\n",
    "# Save the filtered DataFrame to a new CSV file\n",
    "filtered_df.to_csv('Data/Revised/IMD/IMD.csv', index=False)"
   ]
  }
 ],
 "metadata": {
  "kernelspec": {
   "display_name": "Python 3 (ipykernel)",
   "language": "python",
   "name": "python3"
  },
  "language_info": {
   "codemirror_mode": {
    "name": "ipython",
    "version": 3
   },
   "file_extension": ".py",
   "mimetype": "text/x-python",
   "name": "python",
   "nbconvert_exporter": "python",
   "pygments_lexer": "ipython3",
   "version": "3.11.5"
  }
 },
 "nbformat": 4,
 "nbformat_minor": 5
}
