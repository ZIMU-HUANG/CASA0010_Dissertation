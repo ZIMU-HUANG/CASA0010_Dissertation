{
 "cells": [
  {
   "cell_type": "code",
   "execution_count": 15,
   "id": "11f6e4f2-ac3f-4634-a79f-da89e2ee49cc",
   "metadata": {},
   "outputs": [],
   "source": [
    "import pandas as pd"
   ]
  },
  {
   "cell_type": "code",
   "execution_count": 16,
   "id": "a7ca248e-a4c6-4a06-a554-09b66d3b7bbc",
   "metadata": {},
   "outputs": [
    {
     "name": "stdout",
     "output_type": "stream",
     "text": [
      "       MSOA11CD                  MSOA11NM   MSOA21CD  \\\n",
      "0     E02000001        City of London 001  E02000001   \n",
      "1     E02000002  Barking and Dagenham 001  E02000002   \n",
      "2     E02000003  Barking and Dagenham 002  E02000003   \n",
      "3     E02000004  Barking and Dagenham 003  E02000004   \n",
      "4     E02000005  Barking and Dagenham 004  E02000005   \n",
      "...         ...                       ...        ...   \n",
      "997   E02000371               Hackney 027  E02007111   \n",
      "998   E02000891         Tower Hamlets 028  E02007112   \n",
      "999   E02000891         Tower Hamlets 028  E02007113   \n",
      "1000  E02000891         Tower Hamlets 028  E02007114   \n",
      "1001  E02000189                Camden 024  E02007115   \n",
      "\n",
      "                      MSOA21NM    area_2011    area_2021  Ratio  \n",
      "0           City of London 001  2906464.063  3150817.013   1.08  \n",
      "1     Barking and Dagenham 001  2166190.858  2161596.596   1.00  \n",
      "2     Barking and Dagenham 002  2144114.309  2141548.639   1.00  \n",
      "3     Barking and Dagenham 003  2490806.735  2492938.224   1.00  \n",
      "4     Barking and Dagenham 004  1186482.023  1187970.887   1.00  \n",
      "...                        ...          ...          ...    ...  \n",
      "997                Hackney 033   997039.946   646578.403   0.65  \n",
      "998          Tower Hamlets 034  1523144.718   607544.269   0.40  \n",
      "999          Tower Hamlets 035  1523144.718   744083.688   0.49  \n",
      "1000         Tower Hamlets 036  1523144.718   549470.999   0.36  \n",
      "1001                Camden 029   295062.903   668475.506   2.27  \n",
      "\n",
      "[1002 rows x 7 columns]\n"
     ]
    }
   ],
   "source": [
    "# Load the data files\n",
    "file1_path = \"Data/Revised/Geography/Lookup/11-21-MSOA.csv\"\n",
    "file2_path = \"Data/Revised/Geography/MSOA/2011.csv\"\n",
    "file3_path = \"Data/Revised/Geography/MSOA/2021.csv\"\n",
    "\n",
    "# Reading the CSV files\n",
    "file1 = pd.read_csv(file1_path)\n",
    "file2 = pd.read_csv(file2_path)\n",
    "file3 = pd.read_csv(file3_path)\n",
    "\n",
    "# Merging the first file with 2011 data based on 'MSOA11CD'\n",
    "merged_data_2011 = file1.merge(file2[['MSOA11CD', 'area_2011']], on='MSOA11CD', how='left')\n",
    "\n",
    "# Merging the result with 2021 data based on 'msoa21cd'\n",
    "merged_final_data = merged_data_2011.merge(file3[['msoa21cd', 'area_2021']], left_on='MSOA21CD', right_on='msoa21cd', how='left')\n",
    "\n",
    "# Dropping the redundant 'msoa21cd' column after merging\n",
    "merged_final_data.drop(columns=['msoa21cd'], inplace=True)\n",
    "\n",
    "# Calculating the ratio of area_2011 to area_2021 and adding it as a new column 'Ratio'\n",
    "merged_final_data['Ratio'] = (merged_final_data['area_2021'] / merged_final_data['area_2011']).round(2)\n",
    "\n",
    "# Display the updated dataframe\n",
    "print(merged_final_data)"
   ]
  },
  {
   "cell_type": "code",
   "execution_count": 21,
   "id": "1ffe5182-4d9c-4b88-964f-67816aad9def",
   "metadata": {},
   "outputs": [
    {
     "name": "stdout",
     "output_type": "stream",
     "text": [
      "       MSOA11CD                  MSOA11NM   MSOA21CD  \\\n",
      "0     E02000001        City of London 001  E02000001   \n",
      "1     E02000002  Barking and Dagenham 001  E02000002   \n",
      "2     E02000003  Barking and Dagenham 002  E02000003   \n",
      "3     E02000004  Barking and Dagenham 003  E02000004   \n",
      "4     E02000005  Barking and Dagenham 004  E02000005   \n",
      "...         ...                       ...        ...   \n",
      "997   E02000371               Hackney 027  E02007111   \n",
      "998   E02000891         Tower Hamlets 028  E02007112   \n",
      "999   E02000891         Tower Hamlets 028  E02007113   \n",
      "1000  E02000891         Tower Hamlets 028  E02007114   \n",
      "1001  E02000189                Camden 024  E02007115   \n",
      "\n",
      "                      MSOA21NM    area_2011    area_2021  Ratio  Score_2019  \\\n",
      "0           City of London 001  2906464.063  3150817.013   1.08       13.71   \n",
      "1     Barking and Dagenham 001  2166190.858  2161596.596   1.00       34.72   \n",
      "2     Barking and Dagenham 002  2144114.309  2141548.639   1.00       25.10   \n",
      "3     Barking and Dagenham 003  2490806.735  2492938.224   1.00       23.43   \n",
      "4     Barking and Dagenham 004  1186482.023  1187970.887   1.00       30.40   \n",
      "...                        ...          ...          ...    ...         ...   \n",
      "997                Hackney 033   997039.946   646578.403   0.65       30.21   \n",
      "998          Tower Hamlets 034  1523144.718   607544.269   0.40       20.10   \n",
      "999          Tower Hamlets 035  1523144.718   744083.688   0.49       20.10   \n",
      "1000         Tower Hamlets 036  1523144.718   549470.999   0.36       20.10   \n",
      "1001                Camden 029   295062.903   668475.506   2.27       28.36   \n",
      "\n",
      "      Score  Decile  \n",
      "0     14.81       8  \n",
      "1     34.72       1  \n",
      "2     25.10       4  \n",
      "3     23.43       5  \n",
      "4     30.40       2  \n",
      "...     ...     ...  \n",
      "997   19.64       6  \n",
      "998    8.04      10  \n",
      "999    9.85       9  \n",
      "1000   7.24      10  \n",
      "1001  64.38       1  \n",
      "\n",
      "[1002 rows x 10 columns]\n"
     ]
    }
   ],
   "source": [
    "# Load the IMD 2019 data\n",
    "imd_2019_path = \"Data/Revised/Migration/IMD_2019.csv\"\n",
    "imd_2019_data = pd.read_csv(imd_2019_path)\n",
    "\n",
    "# Merging the existing data with the IMD 2019 data based on 'MSOA11CD'\n",
    "merged_with_score = merged_final_data.merge(imd_2019_data[['MSOA11CD', 'Score']], on='MSOA11CD', how='left')\n",
    "\n",
    "# Renaming the 'Score' column to 'Score_2019'\n",
    "merged_with_score.rename(columns={'Score': 'Score_2019'}, inplace=True)\n",
    "\n",
    "# Calculating the ratio of area_2021 to area_2011\n",
    "merged_with_score['Ratio'] = (merged_with_score['area_2021'] / merged_with_score['area_2011']).round(2)\n",
    "\n",
    "# Calculating the product of 'Ratio' and 'Score_2019', rounded to two decimal places\n",
    "merged_with_score['Score'] = (merged_with_score['Ratio'] * merged_with_score['Score_2019']).round(2)\n",
    "\n",
    "# Calculating Decile rankings based on the 'Score' column, with 1 being the highest score\n",
    "merged_with_score['Decile'] = pd.qcut(merged_with_score['Score'], 10, labels=range(10, 0, -1))\n",
    "\n",
    "# Converting the Decile values to integers\n",
    "merged_with_score['Decile'] = merged_with_score['Decile'].astype(int)\n",
    "\n",
    "# Display the updated dataframe\n",
    "print(merged_with_score)"
   ]
  },
  {
   "cell_type": "code",
   "execution_count": 22,
   "id": "e7b710da-2675-4fad-884b-cc36a0977a21",
   "metadata": {},
   "outputs": [],
   "source": [
    "# Selecting only the specified columns\n",
    "final_data = merged_with_score[['MSOA21CD', 'MSOA21NM', 'Score', 'Decile']]\n",
    "\n",
    "# Exporting the selected data to a new CSV file\n",
    "final_data.to_csv('Data/Revised/Migration/IMD_2021.csv', index=False)"
   ]
  }
 ],
 "metadata": {
  "kernelspec": {
   "display_name": "Python 3 (ipykernel)",
   "language": "python",
   "name": "python3"
  },
  "language_info": {
   "codemirror_mode": {
    "name": "ipython",
    "version": 3
   },
   "file_extension": ".py",
   "mimetype": "text/x-python",
   "name": "python",
   "nbconvert_exporter": "python",
   "pygments_lexer": "ipython3",
   "version": "3.11.5"
  }
 },
 "nbformat": 4,
 "nbformat_minor": 5
}
