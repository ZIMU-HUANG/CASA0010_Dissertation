{
 "cells": [
  {
   "cell_type": "code",
   "execution_count": 14,
   "id": "a1e81c47-e35b-4cf8-96d5-c2a8bf7579ba",
   "metadata": {},
   "outputs": [],
   "source": [
    "import pandas as pd"
   ]
  },
  {
   "cell_type": "code",
   "execution_count": 16,
   "id": "85b04215-a3d4-41cc-af4c-055d918956ab",
   "metadata": {},
   "outputs": [],
   "source": [
    "# Load the uploaded files into dataframes\n",
    "odmg_df = pd.read_csv('Data/Revised/Migration/ODMG.csv')\n",
    "imd_df = pd.read_csv('Data/Revised/Migration/IMD_2021.csv')\n",
    "\n",
    "# Merge the two dataframes based on 'Migrant MSOA one year ago code' from ODMG Data and 'MSOA21CD' from IMD 2021 Data\n",
    "merged_df = odmg_df.merge(imd_df[['MSOA21CD', 'Decile']], \n",
    "                          left_on='Code_2020', \n",
    "                          right_on='MSOA21CD', \n",
    "                          how='left')\n",
    "\n",
    "# Rename the Decile column to 'Before'\n",
    "merged_df.rename(columns={'Decile': 'IMD_Before'}, inplace=True)\n",
    "\n",
    "# Drop the 'MSOA21CD' column from the merged dataframe\n",
    "merged_df = merged_df.drop(columns=['MSOA21CD'])\n",
    "\n",
    "# Merge the Decile based on 'Middle layer Super Output Areas code' with 'MSOA21CD' from the second dataframe\n",
    "merged_df = merged_df.merge(imd_df[['MSOA21CD', 'Decile']],\n",
    "                            left_on='Code_2021',\n",
    "                            right_on='MSOA21CD',\n",
    "                            how='left')\n",
    "\n",
    "# Rename the Decile column to 'After'\n",
    "merged_df.rename(columns={'Decile': 'IMD_After'}, inplace=True)\n",
    "\n",
    "# Drop the 'MSOA21CD' column used for merging\n",
    "merged_df = merged_df.drop(columns=['MSOA21CD'])\n",
    "\n",
    "# Calculate the difference between 'Before' and 'After' and create a new column 'IMD_Change'\n",
    "merged_df['IMD_Change'] = merged_df['IMD_After'] - merged_df['IMD_Before']\n",
    "\n",
    "# Move the 'Count' column to the last position and 'IMD_Change' to be the second last\n",
    "cols = merged_df.columns.tolist()\n",
    "cols.append(cols.pop(cols.index('Count')))\n",
    "cols.insert(-1, cols.pop(cols.index('IMD_Change')))\n",
    "merged_df = merged_df[cols]\n",
    "\n",
    "# Export the updated dataframe to a new CSV file\n",
    "output_path_updated = 'Data/Revised/Migration/Migration.csv'\n",
    "merged_df.to_csv(output_path_updated, index=False)"
   ]
  }
 ],
 "metadata": {
  "kernelspec": {
   "display_name": "Python 3 (ipykernel)",
   "language": "python",
   "name": "python3"
  },
  "language_info": {
   "codemirror_mode": {
    "name": "ipython",
    "version": 3
   },
   "file_extension": ".py",
   "mimetype": "text/x-python",
   "name": "python",
   "nbconvert_exporter": "python",
   "pygments_lexer": "ipython3",
   "version": "3.11.5"
  }
 },
 "nbformat": 4,
 "nbformat_minor": 5
}
