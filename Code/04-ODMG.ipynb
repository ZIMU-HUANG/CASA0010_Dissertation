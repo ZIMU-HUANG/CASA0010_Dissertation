{
 "cells": [
  {
   "cell_type": "code",
   "execution_count": 22,
   "id": "30f43c1b-3ab6-485b-8ba9-ad7151bcb891",
   "metadata": {},
   "outputs": [],
   "source": [
    "import pandas as pd"
   ]
  },
  {
   "cell_type": "markdown",
   "id": "c90006be-11d5-4a5a-9186-5f269f8f92ed",
   "metadata": {},
   "source": [
    "**· Origin-Destination Migration data**"
   ]
  },
  {
   "cell_type": "code",
   "execution_count": 24,
   "id": "6edadc8c-a517-4c6e-a8d3-0adeb2a746ed",
   "metadata": {},
   "outputs": [],
   "source": [
    "# Load CSV file\n",
    "file_path = 'Data/Raw/Migration/ODMG.csv'\n",
    "df = pd.read_csv(file_path)\n",
    "\n",
    "# Remove rows with invalid values\n",
    "filtered_df = df[\n",
    "    ~df['Migrant MSOA one year ago code'].isin(['-8', '999999999']) &\n",
    "    ~df['Migrant MSOA one year ago label'].isin(['Does not apply', 'Person with migrant origin outside the UK'])\n",
    "]\n",
    "\n",
    "# Define the list of keywords for the areas to include\n",
    "areas = [\n",
    "    \"City of London\", \"Barking and Dagenham\", \"Barnet\", \"Bexley\", \"Brent\", \"Bromley\", \"Camden\", \"Croydon\",\n",
    "    \"Ealing\", \"Enfield\", \"Greenwich\", \"Hackney\", \"Hammersmith and Fulham\", \"Haringey\", \"Harrow\", \"Havering\",\n",
    "    \"Hillingdon\", \"Hounslow\", \"Islington\", \"Kensington and Chelsea\", \"Kingston upon Thames\", \"Lambeth\", \n",
    "    \"Lewisham\", \"Merton\", \"Newham\", \"Redbridge\", \"Richmond upon Thames\", \"Southwark\", \"Sutton\", \n",
    "    \"Tower Hamlets\", \"Waltham Forest\", \"Wandsworth\", \"Westminster\"\n",
    "]\n",
    "\n",
    "# Filter rows by checking for exact matches with the keywords in the relevant columns\n",
    "filtered_df_strict = filtered_df[\n",
    "    filtered_df['Migrant MSOA one year ago label'].apply(lambda x: any(area in x for area in areas)) &\n",
    "    filtered_df['Middle layer Super Output Areas label'].apply(lambda x: any(area in x for area in areas))\n",
    "]\n",
    "\n",
    "# Save the filtered DataFrame to a new CSV file\n",
    "filtered_df_strict.to_csv('Data/Revised/Migration/ODMG.csv', index=False)"
   ]
  }
 ],
 "metadata": {
  "kernelspec": {
   "display_name": "Python 3 (ipykernel)",
   "language": "python",
   "name": "python3"
  },
  "language_info": {
   "codemirror_mode": {
    "name": "ipython",
    "version": 3
   },
   "file_extension": ".py",
   "mimetype": "text/x-python",
   "name": "python",
   "nbconvert_exporter": "python",
   "pygments_lexer": "ipython3",
   "version": "3.11.5"
  }
 },
 "nbformat": 4,
 "nbformat_minor": 5
}
