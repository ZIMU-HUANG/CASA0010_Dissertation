{
 "cells": [
  {
   "cell_type": "code",
   "execution_count": 2,
   "id": "10f5b42a-fe09-408b-a93b-d7874c6d259c",
   "metadata": {},
   "outputs": [],
   "source": [
    "import pandas as pd"
   ]
  },
  {
   "cell_type": "markdown",
   "id": "afe82747-1b16-4406-85a7-13ce8f3b96c2",
   "metadata": {},
   "source": [
    "**· 2011 LSOA - 2011 MSOA**"
   ]
  },
  {
   "cell_type": "code",
   "execution_count": 6,
   "id": "6e2894fc-bfb1-41bb-b5bc-99dfa0ee4f50",
   "metadata": {},
   "outputs": [],
   "source": [
    "# Load CSV file\n",
    "file_path_11 = 'Data/Raw/Geography/Lookup/11-11.csv'\n",
    "df_11 = pd.read_csv(file_path_11)\n",
    "\n",
    "# Specify the list of area names to retain\n",
    "areas = [\n",
    "    \"City of London\", \"Barking and Dagenham\", \"Barnet\", \"Bexley\", \"Brent\", \"Bromley\", \"Camden\", \"Croydon\",\n",
    "    \"Ealing\", \"Enfield\", \"Greenwich\", \"Hackney\", \"Hammersmith and Fulham\", \"Haringey\", \"Harrow\", \"Havering\",\n",
    "    \"Hillingdon\", \"Hounslow\", \"Islington\", \"Kensington and Chelsea\", \"Kingston upon Thames\", \"Lambeth\", \n",
    "    \"Lewisham\", \"Merton\", \"Newham\", \"Redbridge\", \"Richmond upon Thames\", \"Southwark\", \"Sutton\", \n",
    "    \"Tower Hamlets\", \"Waltham Forest\", \"Wandsworth\", \"Westminster\"\n",
    "]\n",
    "\n",
    "# Create filter conditions using regex to ensure exact matches\n",
    "pattern = r'\\b(?:' + '|'.join(areas) + r')\\b'\n",
    "\n",
    "# Filter the DataFrame\n",
    "filtered_df_11 = df_11[df_11['MSOA11NM'].str.contains(pattern, na=False, regex=True) | df_11['LSOA11NM'].str.contains(pattern, na=False, regex=True)]\n",
    "\n",
    "# Remove rows with duplicate 'LSOA11CD' or 'LSOA11NM'\n",
    "cleaned_df_11 = filtered_df_11.drop_duplicates(subset=['LSOA11CD', 'LSOA11NM'], keep='first')\n",
    "\n",
    "# Save the filtered DataFrame to a new CSV file\n",
    "cleaned_df_11.to_csv('Data/Revised/Geography/Lookup/11-11-MSOA.csv', index=False)"
   ]
  },
  {
   "cell_type": "markdown",
   "id": "2d7ce2d6-8b25-417e-9c91-ee38f200ab8b",
   "metadata": {},
   "source": [
    "**· 2011 MSOA - 2021 MSOA**"
   ]
  },
  {
   "cell_type": "code",
   "execution_count": 5,
   "id": "900dda60-0aea-4806-b32f-3005b3438aa9",
   "metadata": {},
   "outputs": [],
   "source": [
    "# Load CSV file\n",
    "file_path_21 = 'Data/Raw/Geography/Lookup/11-21.csv'\n",
    "df_21 = pd.read_csv(file_path_21)\n",
    "\n",
    "# Specify the list of area names to retain\n",
    "areas = [\n",
    "    \"City of London\", \"Barking and Dagenham\", \"Barnet\", \"Bexley\", \"Brent\", \"Bromley\", \"Camden\", \"Croydon\",\n",
    "    \"Ealing\", \"Enfield\", \"Greenwich\", \"Hackney\", \"Hammersmith and Fulham\", \"Haringey\", \"Harrow\", \"Havering\",\n",
    "    \"Hillingdon\", \"Hounslow\", \"Islington\", \"Kensington and Chelsea\", \"Kingston upon Thames\", \"Lambeth\", \n",
    "    \"Lewisham\", \"Merton\", \"Newham\", \"Redbridge\", \"Richmond upon Thames\", \"Southwark\", \"Sutton\", \n",
    "    \"Tower Hamlets\", \"Waltham Forest\", \"Wandsworth\", \"Westminster\"\n",
    "]\n",
    "\n",
    "# Create filter conditions using regex to ensure exact matches\n",
    "pattern = r'\\b(?:' + '|'.join(areas) + r')\\b'\n",
    "\n",
    "# Filter the DataFrame\n",
    "filtered_df_21 = df_21[df_21['MSOA11NM'].str.contains(pattern, na=False, regex=True) | df_21['MSOA21NM'].str.contains(pattern, na=False, regex=True)]\n",
    "\n",
    "# Remove rows with duplicate 'MSOA21CD' or 'MSOA21NM'\n",
    "cleaned_df_21 = filtered_df_21.drop_duplicates(subset=['MSOA21CD', 'MSOA21NM'], keep='first')\n",
    "\n",
    "# Save the filtered DataFrame to a new CSV file\n",
    "cleaned_df_21.to_csv('Data/Revised/Geography/Lookup/11-21-MSOA.csv', index=False)"
   ]
  },
  {
   "cell_type": "markdown",
   "id": "2a9e1c31-dcb9-4384-a0f0-be2b4a0166f8",
   "metadata": {},
   "source": [
    "**· 2021 MSOA - 2021 LSOA**"
   ]
  },
  {
   "cell_type": "code",
   "execution_count": 14,
   "id": "d193f017-a308-4928-bf7a-3c85b4b37223",
   "metadata": {},
   "outputs": [],
   "source": [
    "# Load CSV file\n",
    "file_path_ml = 'Data/Raw/Geography/Lookup/MSOA-LSOA.csv'\n",
    "df_ml = pd.read_csv(file_path_ml)\n",
    "\n",
    "# Specify the list of area names to retain\n",
    "areas = [\n",
    "    \"City of London\", \"Barking and Dagenham\", \"Barnet\", \"Bexley\", \"Brent\", \"Bromley\", \"Camden\", \"Croydon\",\n",
    "    \"Ealing\", \"Enfield\", \"Greenwich\", \"Hackney\", \"Hammersmith and Fulham\", \"Haringey\", \"Harrow\", \"Havering\",\n",
    "    \"Hillingdon\", \"Hounslow\", \"Islington\", \"Kensington and Chelsea\", \"Kingston upon Thames\", \"Lambeth\", \n",
    "    \"Lewisham\", \"Merton\", \"Newham\", \"Redbridge\", \"Richmond upon Thames\", \"Southwark\", \"Sutton\", \n",
    "    \"Tower Hamlets\", \"Waltham Forest\", \"Wandsworth\", \"Westminster\"\n",
    "]\n",
    "\n",
    "# Create filter conditions using regex to ensure exact matches\n",
    "pattern = r'\\b(?:' + '|'.join(areas) + r')\\b'\n",
    "\n",
    "# Filter the DataFrame\n",
    "filtered_df_ml = df_ml[df_ml['MSOA21NM'].str.contains(pattern, na=False, regex=True) | df_ml['LSOA21NM'].str.contains(pattern, na=False, regex=True)]\n",
    "\n",
    "# Remove rows with duplicate 'MSOA21CD' or 'MSOA21NM'\n",
    "cleaned_df_ml = filtered_df_ml.drop_duplicates(subset=['LSOA21CD', 'LSOA21NM'], keep='first')\n",
    "\n",
    "# Save the filtered DataFrame to a new CSV file\n",
    "cleaned_df_ml.to_csv('Data/Revised/Geography/Lookup/11-21-ML.csv', index=False)"
   ]
  }
 ],
 "metadata": {
  "kernelspec": {
   "display_name": "Python 3 (ipykernel)",
   "language": "python",
   "name": "python3"
  },
  "language_info": {
   "codemirror_mode": {
    "name": "ipython",
    "version": 3
   },
   "file_extension": ".py",
   "mimetype": "text/x-python",
   "name": "python",
   "nbconvert_exporter": "python",
   "pygments_lexer": "ipython3",
   "version": "3.11.5"
  }
 },
 "nbformat": 4,
 "nbformat_minor": 5
}
